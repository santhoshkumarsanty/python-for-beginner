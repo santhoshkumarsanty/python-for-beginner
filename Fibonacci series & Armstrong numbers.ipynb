{
 "cells": [
  {
   "cell_type": "markdown",
   "metadata": {},
   "source": [
    "# Fibonacci & armstrong number "
   ]
  },
  {
   "cell_type": "code",
   "execution_count": 5,
   "metadata": {},
   "outputs": [],
   "source": [
    "class math:\n",
    "\n",
    "\n",
    "    def fibonacci_series(self,num):#num variable define how many fibonacci numbers we want\n",
    "        ini = 0\n",
    "        sec = 1\n",
    "        count =0\n",
    "        while count<=num:\n",
    "            print(ini)\n",
    "            new = ini + sec  #this new variable contains the sum of the before two numbers\n",
    "            ini = sec\n",
    "            sec = new\n",
    "            count +=1\n",
    "\n",
    "    def armstrong_number(self,qus):\n",
    "        for num in range(qus):  #getting every number one by one\n",
    "            l = len(str(num))\n",
    "            original = num\n",
    "            count = 0\n",
    "            while num > 0:\n",
    "                last = num % 10  #its give the last number from the num \n",
    "                count = count+last ** l \n",
    "                num = num // 10\n",
    "\n",
    "            if count == original: #if both values are same \n",
    "                print(original)"
   ]
  },
  {
   "cell_type": "code",
   "execution_count": 6,
   "metadata": {},
   "outputs": [
    {
     "name": "stdout",
     "output_type": "stream",
     "text": [
      "0\n",
      "1\n",
      "1\n",
      "2\n",
      "3\n",
      "5\n",
      "8\n",
      "13\n",
      "21\n",
      "34\n",
      "55\n",
      "---------------------------------\n",
      "0\n",
      "1\n",
      "2\n",
      "3\n",
      "4\n",
      "5\n",
      "6\n",
      "7\n",
      "8\n",
      "9\n",
      "153\n",
      "370\n",
      "371\n",
      "407\n"
     ]
    }
   ],
   "source": [
    "ans = math()\n",
    "ans.fibonacci_series(10)\n",
    "print(\"---------------------------------\")\n",
    "(ans.armstrong_number(1000))"
   ]
  }
 ],
 "metadata": {
  "kernelspec": {
   "display_name": "Python 3",
   "language": "python",
   "name": "python3"
  },
  "language_info": {
   "codemirror_mode": {
    "name": "ipython",
    "version": 3
   },
   "file_extension": ".py",
   "mimetype": "text/x-python",
   "name": "python",
   "nbconvert_exporter": "python",
   "pygments_lexer": "ipython3",
   "version": "3.8.0"
  }
 },
 "nbformat": 4,
 "nbformat_minor": 4
}
