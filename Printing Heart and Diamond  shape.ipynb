{
 "cells": [
  {
   "cell_type": "markdown",
   "metadata": {},
   "source": [
    "# Heart shape"
   ]
  },
  {
   "cell_type": "code",
   "execution_count": 2,
   "metadata": {},
   "outputs": [
    {
     "name": "stdout",
     "output_type": "stream",
     "text": [
      " ** ** \n",
      "*  *  *\n",
      "*     *\n",
      " *   * \n",
      "  * *  \n",
      "   *   \n"
     ]
    }
   ],
   "source": [
    "def heart():      #first draw the heart in your note book collect the hint\n",
    "    for i in range(6): #rows\n",
    "        for j in range(7): #columns\n",
    "            if (i==0 and j%3!=0) or (i==1 and j%3==0) or (i-j==2) or (i+j==8): #giving condition to where to print stars \n",
    "                print(\"*\",end=\"\")\n",
    "            else:\n",
    "                print(end=\" \") #printing space\n",
    "        print()\n",
    "\n",
    "heart()"
   ]
  },
  {
   "cell_type": "markdown",
   "metadata": {},
   "source": [
    "# Diamond"
   ]
  },
  {
   "cell_type": "code",
   "execution_count": 7,
   "metadata": {},
   "outputs": [
    {
     "name": "stdout",
     "output_type": "stream",
     "text": [
      "     * \n",
      "    * * \n",
      "   * * * \n",
      "  * * * * \n",
      " * * * * * \n",
      "* * * * * * \n",
      " * * * * * \n",
      "  * * * * \n",
      "   * * * \n",
      "    * * \n",
      "     * \n"
     ]
    }
   ],
   "source": [
    "def diamond(n):\n",
    "    for i in range(n, 0, -1):   #printing top of the diamond\n",
    "        for j in range(i - 1, 0, -1):\n",
    "            print(\" \", end=\"\")\n",
    "\n",
    "        for g in range((n + 1) - i, 0, -1):\n",
    "            print(\"*\", end=\" \")\n",
    "        print(\"\")\n",
    "    for m in range(n-1,0,-1): #printing bottom of the diamond\n",
    "        print(\" \"*(n-m)+\"* \"*m)\n",
    "        \n",
    "        \n",
    "diamond(6)"
   ]
  },
  {
   "cell_type": "code",
   "execution_count": 6,
   "metadata": {},
   "outputs": [
    {
     "name": "stdout",
     "output_type": "stream",
     "text": [
      "  *  \n",
      " * * \n",
      "*   *\n",
      " * * \n",
      "  *  \n"
     ]
    }
   ],
   "source": [
    "def inclined_diamond(n):\n",
    "    for i in range(n+1):\n",
    "        for j in range(n+1):\n",
    "            if (i+j==(n-2)) or (i+j == (n+2)) or (i==(n-1) and j==(n-3)) or (i==(n-3) and j==(n-1)):\n",
    "                print(\"*\",end=\"\") #giving conditions to print the stars\n",
    "            else:\n",
    "                print(end=\" \")\n",
    "        print()\n",
    "        \n",
    "inclined_diamond(4)"
   ]
  }
 ],
 "metadata": {
  "kernelspec": {
   "display_name": "Python 3",
   "language": "python",
   "name": "python3"
  },
  "language_info": {
   "codemirror_mode": {
    "name": "ipython",
    "version": 3
   },
   "file_extension": ".py",
   "mimetype": "text/x-python",
   "name": "python",
   "nbconvert_exporter": "python",
   "pygments_lexer": "ipython3",
   "version": "3.8.0"
  }
 },
 "nbformat": 4,
 "nbformat_minor": 4
}
