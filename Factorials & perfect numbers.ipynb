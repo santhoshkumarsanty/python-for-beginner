{
 "cells": [
  {
   "cell_type": "markdown",
   "metadata": {},
   "source": [
    "# Factorials program"
   ]
  },
  {
   "cell_type": "code",
   "execution_count": 2,
   "metadata": {},
   "outputs": [
    {
     "name": "stdout",
     "output_type": "stream",
     "text": [
      "120\n"
     ]
    }
   ],
   "source": [
    "def factorial(num):\n",
    "    final = 1\n",
    "    for i in range(num,0,-1):  #iterate the numbers in reverse order\n",
    "        final *= i   \n",
    "    return print(final)\n",
    "\n",
    "factorial(5)"
   ]
  },
  {
   "cell_type": "markdown",
   "metadata": {},
   "source": [
    "# Perfect numbers"
   ]
  },
  {
   "cell_type": "code",
   "execution_count": 3,
   "metadata": {},
   "outputs": [
    {
     "name": "stdout",
     "output_type": "stream",
     "text": [
      "0\n",
      "6\n",
      "28\n",
      "496\n"
     ]
    }
   ],
   "source": [
    "def perfect_numbers(num):\n",
    "    for qus in range(num):\n",
    "        ans = 0\n",
    "        for i in range(1,qus):  \n",
    "            if qus%i == 0:    \n",
    "                ans += i\n",
    "        if ans == qus:\n",
    "            print(ans)\n",
    "\n",
    "perfect_numbers(500)"
   ]
  }
 ],
 "metadata": {
  "kernelspec": {
   "display_name": "Python 3",
   "language": "python",
   "name": "python3"
  },
  "language_info": {
   "codemirror_mode": {
    "name": "ipython",
    "version": 3
   },
   "file_extension": ".py",
   "mimetype": "text/x-python",
   "name": "python",
   "nbconvert_exporter": "python",
   "pygments_lexer": "ipython3",
   "version": "3.8.0"
  }
 },
 "nbformat": 4,
 "nbformat_minor": 4
}
