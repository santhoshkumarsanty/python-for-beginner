{
 "cells": [
  {
   "cell_type": "markdown",
   "metadata": {},
   "source": [
    "# Calculator by python"
   ]
  },
  {
   "cell_type": "markdown",
   "metadata": {},
   "source": [
    "## First create the function for the all maths calculation"
   ]
  },
  {
   "cell_type": "code",
   "execution_count": 1,
   "metadata": {},
   "outputs": [],
   "source": [
    "def add(num):  #Addition\n",
    "    result = 0   #result will be contain the total\n",
    "    for i in num:\n",
    "        result= result+i #add the every values one by one\n",
    "    return result\n",
    "\n",
    "def sub(num): #Subtraction \n",
    "    result = 0\n",
    "    for i in num:\n",
    "        result= i-result\n",
    "    return result\n",
    "\n",
    "def mul(num):   #Multiplication\n",
    "    result = 1   #The initialize value should be 1\n",
    "    for i in num:\n",
    "        result= result*i\n",
    "    return result\n",
    "\n",
    "def div(num):  #Division\n",
    "    final = True      #in the division denominator value should not be zero,so we need to check that \n",
    "    result = num[0]    \n",
    "    check = num[1:]\n",
    "    for j in check: \n",
    "        if j != 0:  #if denominator value not equal to zero if statement will be true\n",
    "            for g in check: \n",
    "                result = result/g\n",
    "\n",
    "            return result\n",
    "\n",
    "        else:   #if the value is zero its return below statement\n",
    "            return \"0 cant be act divisible number\"\n"
   ]
  },
  {
   "cell_type": "markdown",
   "metadata": {},
   "source": [
    "### Now get the input from the user  And Call the function to perform the math"
   ]
  },
  {
   "cell_type": "code",
   "execution_count": null,
   "metadata": {},
   "outputs": [
    {
     "name": "stdout",
     "output_type": "stream",
     "text": [
      "WELCOME TO THE CALCULATOR BY PYTHON\n",
      "you need to enter how many numbers did you want to calculate\n",
      "hello user enter,what type of method calculation \n",
      "do you want to perform...!!!\n",
      "    addition        : 1 \n",
      "    subraction      : 2\n",
      "    multiplication  : 3 \n",
      "    division        : 4\n"
     ]
    }
   ],
   "source": [
    "print(\"WELCOME TO THE CALCULATOR BY PYTHON\")\n",
    "print(\"you need to enter how many numbers did you want to calculate\")\n",
    "\n",
    "sentance  = '''hello user enter,what type of method calculation \n",
    "do you want to perform...!!!\n",
    "    addition        : 1 \n",
    "    subraction      : 2\n",
    "    multiplication  : 3 \n",
    "    division        : 4'''\n",
    "\n",
    "print(sentance)\n",
    "\n",
    "cal = int(input(\"Enter your calculation method : \"))\n",
    "\n",
    "values = int(input(\"enter how many numbers did you want to calculate : \")) #this will take the length of your total number\n",
    "\n",
    "numbers = [int(input(\"enter the numbers you need to calculate : \")) for i in range(values)] #lsit of your numbers to perform\n",
    "\n",
    "print(numbers)\n",
    "\n",
    "if cal <= 4:\n",
    "    if cal==1:\n",
    "        print(f\"your addition answer is : {add(numbers)}\")\n",
    "\n",
    "    elif cal==2:\n",
    "        print(f\"your subraction answer is : {sub(numbers)}\")\n",
    "\n",
    "    elif cal==3:\n",
    "        print(f\"your multiplication answer is : {mul(numbers)}\")\n",
    "\n",
    "    elif cal == 4:\n",
    "        print(f\"your division answer is : {div(numbers)}\")\n",
    "\n",
    "else:\n",
    "    print(\"Enter number between 1 to 4\")\n"
   ]
  }
 ],
 "metadata": {
  "kernelspec": {
   "display_name": "Python 3",
   "language": "python",
   "name": "python3"
  },
  "language_info": {
   "codemirror_mode": {
    "name": "ipython",
    "version": 3
   },
   "file_extension": ".py",
   "mimetype": "text/x-python",
   "name": "python",
   "nbconvert_exporter": "python",
   "pygments_lexer": "ipython3",
   "version": "3.8.0"
  }
 },
 "nbformat": 4,
 "nbformat_minor": 4
}
