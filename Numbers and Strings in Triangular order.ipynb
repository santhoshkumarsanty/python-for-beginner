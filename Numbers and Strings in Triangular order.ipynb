{
 "cells": [
  {
   "cell_type": "markdown",
   "metadata": {},
   "source": [
    "# Printing Numbers"
   ]
  },
  {
   "cell_type": "code",
   "execution_count": 14,
   "metadata": {},
   "outputs": [
    {
     "name": "stdout",
     "output_type": "stream",
     "text": [
      "1   \n",
      "2   3   \n",
      "4   5   6   \n",
      "7   8   9   10  \n",
      "11  12  13  14  15  \n",
      "16  17  18  19  20  21  \n",
      "22  23  24  25  26  27  28  \n"
     ]
    }
   ],
   "source": [
    "#numbers printing in right side triangle\n",
    "def numbers_1(n):\n",
    "    count=1\n",
    "    for i in range(1,n):\n",
    "        for j in range(i):\n",
    "            print(format(count,\"<3\"),end=\" \") #format is used to arrange the numbers in orderly\n",
    "            count +=1   #increament the count value\n",
    "        print()\n",
    "        \n",
    "numbers_1(8)"
   ]
  },
  {
   "cell_type": "code",
   "execution_count": 15,
   "metadata": {},
   "outputs": [
    {
     "name": "stdout",
     "output_type": "stream",
     "text": [
      "8 8 8 8 8 8 8 8 \n",
      "7 7 7 7 7 7 7 \n",
      "6 6 6 6 6 6 \n",
      "5 5 5 5 5 \n",
      "4 4 4 4 \n",
      "3 3 3 \n",
      "2 2 \n",
      "1 \n"
     ]
    }
   ],
   "source": [
    "#down right side triangle \n",
    "def number_2(n):\n",
    "    count = n\n",
    "    for i in range(n,0,-1):\n",
    "        for j in range(i):\n",
    "            print(count,end=\" \")\n",
    "        print()\n",
    "        count -= 1\n",
    "        \n",
    "number_2(8)"
   ]
  },
  {
   "cell_type": "code",
   "execution_count": 16,
   "metadata": {},
   "outputs": [
    {
     "name": "stdout",
     "output_type": "stream",
     "text": [
      "1 2 3 4 5 6 7 8 \n",
      "1 2 3 4 5 6 7 \n",
      "1 2 3 4 5 6 \n",
      "1 2 3 4 5 \n",
      "1 2 3 4 \n",
      "1 2 3 \n",
      "1 2 \n",
      "1 \n"
     ]
    }
   ],
   "source": [
    "#down right side triangle \n",
    "def numbers_3(n):\n",
    "    for i in range(n,0,-1):\n",
    "        count = 1\n",
    "        for j in range(i):\n",
    "            print(count,end=\" \")\n",
    "            count += 1\n",
    "        print()\n",
    "        \n",
    "numbers_3(8)"
   ]
  },
  {
   "cell_type": "markdown",
   "metadata": {},
   "source": [
    "# Printing Strings"
   ]
  },
  {
   "cell_type": "code",
   "execution_count": 17,
   "metadata": {},
   "outputs": [
    {
     "name": "stdout",
     "output_type": "stream",
     "text": [
      "\n",
      "I \n",
      "I R \n",
      "I R O \n",
      "I R O N \n",
      "I R O N M \n",
      "I R O N M A \n",
      "I R O N M A N \n"
     ]
    }
   ],
   "source": [
    "def string(n):\n",
    "    l = len(n)\n",
    "    for i in range(0,l+1):\n",
    "        for j in range(i):\n",
    "            print(n[j],end=\" \")\n",
    "        print()\n",
    "\n",
    "string(\"IRONMAN\")"
   ]
  }
 ],
 "metadata": {
  "kernelspec": {
   "display_name": "Python 3",
   "language": "python",
   "name": "python3"
  },
  "language_info": {
   "codemirror_mode": {
    "name": "ipython",
    "version": 3
   },
   "file_extension": ".py",
   "mimetype": "text/x-python",
   "name": "python",
   "nbconvert_exporter": "python",
   "pygments_lexer": "ipython3",
   "version": "3.8.0"
  }
 },
 "nbformat": 4,
 "nbformat_minor": 4
}
