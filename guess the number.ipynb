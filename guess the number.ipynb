{
 "cells": [
  {
   "cell_type": "markdown",
   "metadata": {},
   "source": [
    "# Guess the number between 0-20"
   ]
  },
  {
   "cell_type": "markdown",
   "metadata": {},
   "source": [
    "### Below program give 3 attempt to find the correct answer"
   ]
  },
  {
   "cell_type": "code",
   "execution_count": null,
   "metadata": {},
   "outputs": [
    {
     "name": "stdout",
     "output_type": "stream",
     "text": [
      "Hello brother..!!! Welcome to the number guessing GAME\n",
      "you need to enter your predicted number between 0 to 20\n",
      "This game will give 3 chance to predict the correct the number\n",
      "All the best for your predictions\n"
     ]
    }
   ],
   "source": [
    "import numpy as np\n",
    "print(\"Hello brother..!!! Welcome to the number guessing GAME\")\n",
    "print(\"you need to enter your predicted number between 0 to 20\")\n",
    "print(\"This game will give 3 chance to predict the correct the number\")\n",
    "print(\"All the best for your predictions\")\n",
    "\n",
    "num = np.random.randint(0,20) #its generate the number randomly between 0-20\n",
    "final = False\n",
    "guess = int(input(\"Enter your predicted number : \")) #its your guessing number\n",
    "count = 0\n",
    "\n",
    "while not final:\n",
    "    if guess >= 0 and guess <= 20:   #its check guessing number range between 0-20 or not \n",
    "\n",
    "        if num == guess: \n",
    "            print(num)\n",
    "            print(\"Congratulation your prediction is correct\")\n",
    "            final = True\n",
    "\n",
    "        elif num != guess and count <= 2:\n",
    "            retry = input(\"if you want to try again enter 'y' or if you want to know the result enter s : \")\n",
    "            retry = retry.lower()\n",
    "            if retry == \"y\":\n",
    "                guess = int(input(\"enter your new prediction : \"))\n",
    "                count = count + 1\n",
    "                continue\n",
    "\n",
    "            elif retry == \"s\":\n",
    "                print(\"The original value is : \",end=\"\")\n",
    "                print(num)\n",
    "                print(\"Thank you for play the game\")\n",
    "                final=True\n",
    "\n",
    "        elif count > 2:\n",
    "            print(\"Your attempt is over original value is : \",end=\"\")\n",
    "            print(num)\n",
    "            print(\"Try again next time \")\n",
    "            final = True\n",
    "\n",
    "    else:\n",
    "        print(\"you entered wrong number please enter number between 0 to 20\")\n",
    "        final = True\n"
   ]
  }
 ],
 "metadata": {
  "kernelspec": {
   "display_name": "Python 3",
   "language": "python",
   "name": "python3"
  },
  "language_info": {
   "codemirror_mode": {
    "name": "ipython",
    "version": 3
   },
   "file_extension": ".py",
   "mimetype": "text/x-python",
   "name": "python",
   "nbconvert_exporter": "python",
   "pygments_lexer": "ipython3",
   "version": "3.8.0"
  }
 },
 "nbformat": 4,
 "nbformat_minor": 4
}
