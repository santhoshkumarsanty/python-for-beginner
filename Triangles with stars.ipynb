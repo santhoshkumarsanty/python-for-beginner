{
 "cells": [
  {
   "cell_type": "markdown",
   "metadata": {},
   "source": [
    "# Creating triangles with stars "
   ]
  },
  {
   "cell_type": "code",
   "execution_count": 16,
   "metadata": {},
   "outputs": [],
   "source": [
    "class stars:\n",
    "    def triangle(self,n):   \n",
    "        for i in range(n,0,-1):\n",
    "            for j in range(i-1,0,-1):    #its print the space line by line untill for loop end\n",
    "                print(\" \",end=\"\")\n",
    "\n",
    "            for g in range((n+1)-i,0,-1):  #its print the star\n",
    "                print(\"*\",end=\" \")\n",
    "            print(\"\")  #its print the next line \n",
    "            \n",
    "        \n",
    "    def downtriangle(self,n):      #this created by the if statement giving the condition to print the stars\n",
    "        for i in range(n):  #this print the row\n",
    "            for j in range(n+3):   #this pront column\n",
    "                if (i==j) or (i==0 and j%2==0) or (i==1 and j==3) or (i==1 and j==5) or (i==2 and j==4):\n",
    "                    print(\"*\",end=\"\")\n",
    "\n",
    "                else:          #if condition is false print the space\n",
    "                    print(\" \",end=\"\")\n",
    "            print(\"\")\n",
    "\n",
    "    \n",
    "\n",
    "    def lfttriangle(self,size):\n",
    "        for i in range(size):\n",
    "            for j in range(i+1):\n",
    "                    print(\"*\", end=\" \")\n",
    "\n",
    "            print(\"\")\n",
    "\n",
    "    def rhttriangle(self,size):\n",
    "        for i in range(size,0,-1):\n",
    "            for j in range(i-1,0,-1):\n",
    "                print(\" \",end=\" \")\n",
    "            for g in range(i-(size+1),0):\n",
    "                print(\"*\",end=\" \")\n",
    "            print(\"\")\n",
    "\n",
    " "
   ]
  },
  {
   "cell_type": "markdown",
   "metadata": {},
   "source": [
    "### call the class to call them methods(inside the class all functions arw represented as method)"
   ]
  },
  {
   "cell_type": "code",
   "execution_count": 17,
   "metadata": {},
   "outputs": [
    {
     "name": "stdout",
     "output_type": "stream",
     "text": [
      "         * \n",
      "        * * \n",
      "       * * * \n",
      "      * * * * \n",
      "     * * * * * \n",
      "    * * * * * * \n",
      "   * * * * * * * \n",
      "  * * * * * * * * \n",
      " * * * * * * * * * \n",
      "* * * * * * * * * * \n",
      "--------------------\n",
      "* * * *\n",
      " * * * \n",
      "  * *  \n",
      "   *   \n",
      "--------------------\n",
      "* \n",
      "* * \n",
      "* * * \n",
      "* * * * \n",
      "* * * * * \n",
      "* * * * * * \n",
      "* * * * * * * \n",
      "* * * * * * * * \n",
      "* * * * * * * * * \n",
      "* * * * * * * * * * \n",
      "--------------------\n",
      "                  * \n",
      "                * * \n",
      "              * * * \n",
      "            * * * * \n",
      "          * * * * * \n",
      "        * * * * * * \n",
      "      * * * * * * * \n",
      "    * * * * * * * * \n",
      "  * * * * * * * * * \n",
      "* * * * * * * * * * \n"
     ]
    }
   ],
   "source": [
    "ans = stars()\n",
    "\n",
    "ans.triangle(10)\n",
    "print(\"--------------------\")\n",
    "ans.downtriangle(4)    #this triangle only act on 4 because this created by the if statement,its also can create by for loop try that your self\n",
    "print(\"--------------------\")\n",
    "ans.lfttriangle(10)\n",
    "print(\"--------------------\")\n",
    "ans.rhttriangle(10)\n"
   ]
  },
  {
   "cell_type": "code",
   "execution_count": null,
   "metadata": {},
   "outputs": [],
   "source": []
  }
 ],
 "metadata": {
  "kernelspec": {
   "display_name": "Python 3",
   "language": "python",
   "name": "python3"
  },
  "language_info": {
   "codemirror_mode": {
    "name": "ipython",
    "version": 3
   },
   "file_extension": ".py",
   "mimetype": "text/x-python",
   "name": "python",
   "nbconvert_exporter": "python",
   "pygments_lexer": "ipython3",
   "version": "3.8.0"
  }
 },
 "nbformat": 4,
 "nbformat_minor": 4
}
