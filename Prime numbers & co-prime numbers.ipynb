{
 "cells": [
  {
   "cell_type": "markdown",
   "metadata": {},
   "source": [
    "# Prime number"
   ]
  },
  {
   "cell_type": "code",
   "execution_count": 5,
   "metadata": {},
   "outputs": [
    {
     "name": "stdout",
     "output_type": "stream",
     "text": [
      "2\n",
      "3\n",
      "5\n",
      "7\n",
      "11\n",
      "13\n",
      "17\n",
      "19\n",
      "23\n"
     ]
    }
   ],
   "source": [
    "def prime_numbers(qus):\n",
    "    for num in range(qus):  #take numbers one by one\n",
    "        if num > 1:  #check the value above the 1\n",
    "            for i in range(2,num):   \n",
    "                if num%i==0:    #check modulus of num every number before num variable containing values is equal to zero\n",
    "                    break\n",
    "            else:   #its not equal to zero ir=ts a prime number\n",
    "                print(num)\n",
    "prime_numbers(25) "
   ]
  },
  {
   "cell_type": "markdown",
   "metadata": {},
   "source": [
    "# Co-prime number"
   ]
  },
  {
   "cell_type": "code",
   "execution_count": 7,
   "metadata": {},
   "outputs": [
    {
     "name": "stdout",
     "output_type": "stream",
     "text": [
      "12's co-prime numbers are 11\n",
      "12's co-prime numbers are 13\n",
      "12's co-prime numbers are 17\n",
      "12's co-prime numbers are 19\n",
      "12's co-prime numbers are 23\n",
      "12's co-prime numbers are 25\n",
      "12's co-prime numbers are 29\n"
     ]
    }
   ],
   "source": [
    "from math import gcd\n",
    "def co_prime_number(num,lower,higher):\n",
    "    for i in range(lower,higher):\n",
    "        if gcd(num,i)==1: #if the common divisible values are same its a co-prime number\n",
    "            print(f\"{num}'s co-prime numbers are {i}\")\n",
    "\n",
    "            \n",
    "co_prime_number(12,10,30)"
   ]
  }
 ],
 "metadata": {
  "kernelspec": {
   "display_name": "Python 3",
   "language": "python",
   "name": "python3"
  },
  "language_info": {
   "codemirror_mode": {
    "name": "ipython",
    "version": 3
   },
   "file_extension": ".py",
   "mimetype": "text/x-python",
   "name": "python",
   "nbconvert_exporter": "python",
   "pygments_lexer": "ipython3",
   "version": "3.8.0"
  }
 },
 "nbformat": 4,
 "nbformat_minor": 4
}
