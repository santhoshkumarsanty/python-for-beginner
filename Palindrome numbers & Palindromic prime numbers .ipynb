{
 "cells": [
  {
   "cell_type": "markdown",
   "metadata": {},
   "source": [
    "# Palindrome numbers "
   ]
  },
  {
   "cell_type": "code",
   "execution_count": 3,
   "metadata": {},
   "outputs": [
    {
     "name": "stdout",
     "output_type": "stream",
     "text": [
      "11\n",
      "22\n",
      "33\n",
      "44\n",
      "55\n",
      "66\n",
      "77\n",
      "88\n",
      "99\n",
      "101\n",
      "111\n",
      "121\n",
      "131\n",
      "141\n",
      "151\n",
      "161\n",
      "171\n",
      "181\n",
      "191\n"
     ]
    }
   ],
   "source": [
    "def palindrome(qus):\n",
    "    for i in range(10,qus+1):\n",
    "        string = str(i)  #take the number as string\n",
    "        num = \"\"\n",
    "        for j in string:\n",
    "            num = j+num   #arrange the number in reverse order\n",
    "        num = int(num)\n",
    "        if i == num:  #if the number and reversed number are same its a palindromic number\n",
    "            print(i)\n",
    "\n",
    "            \n",
    "palindrome(200)"
   ]
  },
  {
   "cell_type": "markdown",
   "metadata": {},
   "source": [
    "# Palindromic prime number"
   ]
  },
  {
   "cell_type": "code",
   "execution_count": 4,
   "metadata": {},
   "outputs": [
    {
     "name": "stdout",
     "output_type": "stream",
     "text": [
      "2\n",
      "3\n",
      "5\n",
      "7\n",
      "11\n",
      "101\n",
      "131\n",
      "151\n",
      "181\n",
      "191\n"
     ]
    }
   ],
   "source": [
    "def palindromic_prime_number(qus):\n",
    "    for i in range(1, qus + 1):\n",
    "        string = str(i)\n",
    "        num = \"\"\n",
    "        for j in string:\n",
    "            num = j + num\n",
    "\n",
    "        num = int(num)\n",
    "        if i == num:\n",
    "            if num > 1:\n",
    "                for g in range(2, num):\n",
    "                    if num % g == 0:\n",
    "                        break\n",
    "                else:\n",
    "                    print(num)\n",
    "\n",
    "palindromic_prime_number(200)"
   ]
  }
 ],
 "metadata": {
  "kernelspec": {
   "display_name": "Python 3",
   "language": "python",
   "name": "python3"
  },
  "language_info": {
   "codemirror_mode": {
    "name": "ipython",
    "version": 3
   },
   "file_extension": ".py",
   "mimetype": "text/x-python",
   "name": "python",
   "nbconvert_exporter": "python",
   "pygments_lexer": "ipython3",
   "version": "3.8.0"
  }
 },
 "nbformat": 4,
 "nbformat_minor": 4
}
