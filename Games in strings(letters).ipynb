{
 "cells": [
  {
   "cell_type": "markdown",
   "metadata": {},
   "source": [
    "# Printing the strings in reverse order"
   ]
  },
  {
   "cell_type": "code",
   "execution_count": 2,
   "metadata": {},
   "outputs": [
    {
     "name": "stdout",
     "output_type": "stream",
     "text": [
      "EMOCLEW\n"
     ]
    }
   ],
   "source": [
    "def reverse_string(qus):\n",
    "    final = \"\"\n",
    "    for i in qus:\n",
    "        final = i + final\n",
    "\n",
    "    return print(final)\n",
    "\n",
    "reverse_string(\"WELCOME\")"
   ]
  },
  {
   "cell_type": "markdown",
   "metadata": {},
   "source": [
    "# Anagrams"
   ]
  },
  {
   "cell_type": "code",
   "execution_count": 4,
   "metadata": {},
   "outputs": [
    {
     "name": "stdout",
     "output_type": "stream",
     "text": [
      "it is an anagram word\n"
     ]
    }
   ],
   "source": [
    "def anagrams(sent1,sent2):  #if the two sentence have same letters its an anagram\n",
    "    sent1 = sorted(sent1)\n",
    "    sent2 = sorted(sent2)\n",
    "    if len(sent1) == len(sent2):  #checking if the length of the two sentence are same\n",
    "        if sent1 == sent2:   \n",
    "            print(\"it is an anagram word\")\n",
    "\n",
    "        else:\n",
    "            print(\"not a anagram\")\n",
    "    else:\n",
    "        print(\"not a anagram\")\n",
    "        \n",
    "        \n",
    "anagrams(\"dad\",\"add\")"
   ]
  },
  {
   "cell_type": "markdown",
   "metadata": {},
   "source": [
    "# Vowels counting "
   ]
  },
  {
   "cell_type": "code",
   "execution_count": 18,
   "metadata": {},
   "outputs": [
    {
     "name": "stdout",
     "output_type": "stream",
     "text": [
      "aimnnor\n",
      "No.of vowels : 3\n"
     ]
    }
   ],
   "source": [
    "def vowels_count(qus):\n",
    "    vowels = [\"a\",\"e\",\"i\",\"o\",\"u\"]  #vowels list\n",
    "    sentence = ''.join(sorted(qus.lower()))\n",
    "    print(sentence)\n",
    "    count = 0\n",
    "    for i in sentence:  #iterating the numbers from the input\n",
    "        if i in vowels:  #if the letter presented in the list of vowels increament count value\n",
    "            count +=1\n",
    "\n",
    "    print(f\"No.of vowels : {count}\")\n",
    "\n",
    "    \n",
    "vowels_count(\"Ironman\")"
   ]
  }
 ],
 "metadata": {
  "kernelspec": {
   "display_name": "Python 3",
   "language": "python",
   "name": "python3"
  },
  "language_info": {
   "codemirror_mode": {
    "name": "ipython",
    "version": 3
   },
   "file_extension": ".py",
   "mimetype": "text/x-python",
   "name": "python",
   "nbconvert_exporter": "python",
   "pygments_lexer": "ipython3",
   "version": "3.8.0"
  }
 },
 "nbformat": 4,
 "nbformat_minor": 4
}
